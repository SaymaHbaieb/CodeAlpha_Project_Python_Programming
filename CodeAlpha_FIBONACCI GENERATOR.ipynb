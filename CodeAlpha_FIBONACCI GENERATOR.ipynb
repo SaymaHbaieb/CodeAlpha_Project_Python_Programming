{
 "cells": [
  {
   "cell_type": "markdown",
   "id": "1733343f-698e-46d1-a4f3-67792349621a",
   "metadata": {},
   "source": [
    "# TASK 1\n",
    "# FIBONACCI GENERATOR\n",
    "# The Fibonacci series is a sequence where each number is the sum of the two preceding numbers, defined by a mathematical recurrence relationship."
   ]
  },
  {
   "cell_type": "code",
   "execution_count": 4,
   "id": "f891594d-ec86-44c7-9936-c411f33e3bd4",
   "metadata": {},
   "outputs": [],
   "source": [
    "def fibonacci_generator(n):\n",
    "    sequence = []\n",
    "    a, b = 0, 1\n",
    "    for _ in range(n):\n",
    "        sequence.append(a)\n",
    "        a, b = b, a + b\n",
    "    return sequence"
   ]
  },
  {
   "cell_type": "code",
   "execution_count": 5,
   "id": "54866542-6293-4e3e-88b5-22733eff4086",
   "metadata": {},
   "outputs": [
    {
     "name": "stdin",
     "output_type": "stream",
     "text": [
      "Enter the number of elements in the Fibonacci sequence you want to generate:  9*\n"
     ]
    },
    {
     "name": "stdout",
     "output_type": "stream",
     "text": [
      "Please enter an integer, not an object. Please try again.\n"
     ]
    },
    {
     "name": "stdin",
     "output_type": "stream",
     "text": [
      "Enter the number of elements in the Fibonacci sequence you want to generate:  -\n"
     ]
    },
    {
     "name": "stdout",
     "output_type": "stream",
     "text": [
      "Please enter an integer, not an object. Please try again.\n"
     ]
    },
    {
     "name": "stdin",
     "output_type": "stream",
     "text": [
      "Enter the number of elements in the Fibonacci sequence you want to generate:  10\n"
     ]
    },
    {
     "name": "stdout",
     "output_type": "stream",
     "text": [
      "The Fibonacci sequence of 10 terms is: [0, 1, 1, 2, 3, 5, 8, 13, 21, 34]\n"
     ]
    }
   ],
   "source": [
    "while True:\n",
    "    try:\n",
    "        n_terms = int(input(\"Enter the number of elements in the Fibonacci sequence you want to generate: \"))\n",
    "        if n_terms <= 0:\n",
    "            print(\"Please enter a positive number.\")\n",
    "        else:\n",
    "            fibonacci_sequence = fibonacci_generator(n_terms)\n",
    "            print(f\"The Fibonacci sequence of {n_terms} terms is: {fibonacci_sequence}\")\n",
    "            break\n",
    "    except ValueError:\n",
    "        print(\"Please enter an integer, not an object. Please try again.\")"
   ]
  },
  {
   "cell_type": "code",
   "execution_count": null,
   "id": "622dffd8-13e0-4485-aafa-3bb646d74d6d",
   "metadata": {},
   "outputs": [],
   "source": []
  }
 ],
 "metadata": {
  "kernelspec": {
   "display_name": "Python 3 (ipykernel)",
   "language": "python",
   "name": "python3"
  },
  "language_info": {
   "codemirror_mode": {
    "name": "ipython",
    "version": 3
   },
   "file_extension": ".py",
   "mimetype": "text/x-python",
   "name": "python",
   "nbconvert_exporter": "python",
   "pygments_lexer": "ipython3",
   "version": "3.12.4"
  }
 },
 "nbformat": 4,
 "nbformat_minor": 5
}
