{
 "cells": [
  {
   "cell_type": "code",
   "execution_count": 1,
   "metadata": {},
   "outputs": [
    {
     "data": {
      "text/html": [
       "\n",
       "        <iframe\n",
       "            width=\"100%\"\n",
       "            height=\"650\"\n",
       "            src=\"http://127.0.0.1:8050/\"\n",
       "            frameborder=\"0\"\n",
       "            allowfullscreen\n",
       "            \n",
       "        ></iframe>\n",
       "        "
      ],
      "text/plain": [
       "<IPython.lib.display.IFrame at 0x13d0a587a10>"
      ]
     },
     "metadata": {},
     "output_type": "display_data"
    }
   ],
   "source": [
    "import random\n",
    "from dash import Dash, html, dcc, Input, Output, State, ctx\n",
    "\n",
    "app = Dash(__name__)\n",
    "\n",
    "def choose_word():\n",
    "    \"\"\"Choose a random word from a predefined list of animals.\"\"\"\n",
    "    words_list = [\"elephant\", \"giraffe\", \"dolphin\", \"kangaroo\", \"rhinoceros\", \"crocodile\", \"chimpanzee\", \"penguin\"]\n",
    "    return random.choice(words_list).lower()\n",
    "\n",
    "def update_guessed_word(chosen_word, guessed_letters):\n",
    "    \"\"\"Update the displayed word with correctly guessed letters.\"\"\"\n",
    "    return [letter if letter in guessed_letters else \"_\" for letter in chosen_word]\n",
    "\n",
    "# Initialize the game state\n",
    "chosen_word = choose_word()\n",
    "guessed_word = [\"_\"] * len(chosen_word)\n",
    "attempts_remaining = 6\n",
    "guessed_letters = []\n",
    "\n",
    "app.layout = html.Div([\n",
    "    html.H1(\"Welcome to the Hangman Game!\"),\n",
    "    html.Div(id='word-display', style={'fontSize': '24px'}),\n",
    "    html.Div(id='attempts-remaining', style={'fontSize': '20px'}),\n",
    "    html.Div(id='guessed-letters', style={'fontSize': '20px'}),\n",
    "    dcc.Input(id='letter-input', type='text', maxLength=1, placeholder='Guess a letter'),\n",
    "    html.Button('Submit', id='submit-button', n_clicks=0),\n",
    "    html.Div(id='result'),\n",
    "])\n",
    "\n",
    "@app.callback(\n",
    "    Output('word-display', 'children'),\n",
    "    Output('attempts-remaining', 'children'),\n",
    "    Output('guessed-letters', 'children'),\n",
    "    Output('result', 'children'),\n",
    "    Input('submit-button', 'n_clicks'),\n",
    "    State('letter-input', 'value'),\n",
    "    prevent_initial_call=True\n",
    ")\n",
    "def update_game(n_clicks, letter):\n",
    "    global guessed_word, attempts_remaining, guessed_letters, chosen_word\n",
    "\n",
    "    if letter and len(letter) == 1 and letter.isalpha():\n",
    "        letter = letter.lower()\n",
    "\n",
    "        if letter in guessed_letters:\n",
    "            return \" \".join(guessed_word), f\"Attempts remaining: {attempts_remaining}\", \"Guessed letters: \" + \" \".join(sorted(guessed_letters)), \"You've already guessed this letter.\"\n",
    "        \n",
    "        guessed_letters.append(letter)\n",
    "\n",
    "        if letter in chosen_word:\n",
    "            guessed_word = update_guessed_word(chosen_word, guessed_letters)\n",
    "        else:\n",
    "            attempts_remaining -= 1\n",
    "        \n",
    "        if \"_\" not in guessed_word:\n",
    "            return \" \".join(guessed_word), f\"Attempts remaining: {attempts_remaining}\", \"Guessed letters: \" + \" \".join(sorted(guessed_letters)), f\"Congratulations! You've guessed the animal: {''.join(guessed_word)}\"\n",
    "        \n",
    "        if attempts_remaining <= 0:\n",
    "            return \" \".join(guessed_word), f\"Attempts remaining: {attempts_remaining}\", \"Guessed letters: \" + \" \".join(sorted(guessed_letters)), f\"Sorry! You've run out of attempts. The animal was: {chosen_word}\"\n",
    "\n",
    "    return \" \".join(guessed_word), f\"Attempts remaining: {attempts_remaining}\", \"Guessed letters: \" + \" \".join(sorted(guessed_letters)), \"\"\n",
    "\n",
    "if __name__ == '__main__':\n",
    "    app.run_server(debug=True)\n",
    "\n",
    "\n",
    "# http://127.0.0.1:8050/"
   ]
  }
 ],
 "metadata": {
  "kernelspec": {
   "display_name": ".venv",
   "language": "python",
   "name": "python3"
  },
  "language_info": {
   "codemirror_mode": {
    "name": "ipython",
    "version": 3
   },
   "file_extension": ".py",
   "mimetype": "text/x-python",
   "name": "python",
   "nbconvert_exporter": "python",
   "pygments_lexer": "ipython3",
   "version": "3.12.5"
  }
 },
 "nbformat": 4,
 "nbformat_minor": 2
}
